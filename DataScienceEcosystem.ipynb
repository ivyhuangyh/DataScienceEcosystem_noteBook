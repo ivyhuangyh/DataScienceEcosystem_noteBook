{
 "cells": [
  {
   "cell_type": "markdown",
   "id": "490fd093-ce3b-4849-a299-447352bb312d",
   "metadata": {},
   "source": [
    "# Data Science Tools and Ecosystem "
   ]
  },
  {
   "cell_type": "markdown",
   "id": "e661968d-5c1f-4a5b-8c6e-728450e7ec54",
   "metadata": {},
   "source": [
    "In this notebook, Data Science Tools and Ecosystem are summarized."
   ]
  },
  {
   "cell_type": "raw",
   "id": "fd20d882-9c2d-429d-afab-3ba18adb8a5d",
   "metadata": {},
   "source": [
    "**Objectives:** \n",
    "This notebook provide intro for  data science \n",
    "\n",
    "* popular languages for data science\n",
    "* commonly used libraries for data science\n",
    "* data science tools\n",
    "* sample codes\n",
    "\n",
    "  "
   ]
  },
  {
   "cell_type": "markdown",
   "id": "00743d21-d77a-41a5-94fd-f87d4d416219",
   "metadata": {},
   "source": [
    "Some of the popular languages that Data Scientists use are:\n",
    "1. Python\n",
    "2. R\n",
    "3. Java\n"
   ]
  },
  {
   "cell_type": "markdown",
   "id": "326a2b45-12c4-4368-bc62-83bcd5673427",
   "metadata": {},
   "source": [
    "Some of the commonly used libraries used by Data Scientists include:\n",
    "1. NumPy\n",
    "2. Matplotlib\n",
    "3. seabor\n",
    "4. Scikit-learn \n",
    "5. TensorFlow\n",
    "6. PyTorch\n",
    "7. Keras\n",
    "8. Panda"
   ]
  },
  {
   "cell_type": "markdown",
   "id": "4997ff17-0868-4201-9dd3-f9c197e40f14",
   "metadata": {},
   "source": [
    "| Data Science Tools |\n",
    "| ----- |\n",
    "| Jupyter Notebook |\n",
    "| Apache Spark |\n",
    "| TensorFlow |\n",
    "| Julia |\n",
    "| RStudio |"
   ]
  },
  {
   "cell_type": "markdown",
   "id": "e600b768-9d51-480a-aa3d-cfbb8c1a7d43",
   "metadata": {},
   "source": [
    "\n",
    "### Below are a few examples of evaluating arithmetic expressions in Python"
   ]
  },
  {
   "cell_type": "code",
   "execution_count": 3,
   "id": "650f6ee7-d26f-48b3-8c8d-6824b582337d",
   "metadata": {},
   "outputs": [
    {
     "data": {
      "text/plain": [
       "17"
      ]
     },
     "execution_count": 3,
     "metadata": {},
     "output_type": "execute_result"
    }
   ],
   "source": [
    "(3*4)+5\n",
    "#  This a simple arithmetic expression to mutiply then add integers"
   ]
  },
  {
   "cell_type": "code",
   "execution_count": 4,
   "id": "ab74fd0d-a46e-4cd4-bd9f-a17eb218bb5c",
   "metadata": {},
   "outputs": [
    {
     "data": {
      "text/plain": [
       "3.3333333333333335"
      ]
     },
     "execution_count": 4,
     "metadata": {},
     "output_type": "execute_result"
    }
   ],
   "source": [
    "total_min =200\n",
    "min_per_hour = 60\n",
    "total_min/min_per_hour \n",
    "# This will convert 200 minutes to hours by diving by 60"
   ]
  },
  {
   "cell_type": "markdown",
   "id": "c4249576-f238-41d5-b7f0-8d8bbaca656e",
   "metadata": {},
   "source": [
    "## Author \n",
    "Yu-Hui Ivy Huang"
   ]
  },
  {
   "cell_type": "markdown",
   "id": "5c6313fb-a842-461b-b3f9-3dd4be069a5e",
   "metadata": {},
   "source": [
    "[GitHub repo link](https://github.com/ivyhuangyh/DataScienceEcosystem_noteBook)"
   ]
  },
  {
   "cell_type": "code",
   "execution_count": null,
   "id": "eb849a30-1583-4ddb-b5ec-085c519ac934",
   "metadata": {},
   "outputs": [],
   "source": []
  }
 ],
 "metadata": {
  "kernelspec": {
   "display_name": "Python 3 (ipykernel)",
   "language": "python",
   "name": "python3"
  },
  "language_info": {
   "codemirror_mode": {
    "name": "ipython",
    "version": 3
   },
   "file_extension": ".py",
   "mimetype": "text/x-python",
   "name": "python",
   "nbconvert_exporter": "python",
   "pygments_lexer": "ipython3",
   "version": "3.12.8"
  }
 },
 "nbformat": 4,
 "nbformat_minor": 5
}
